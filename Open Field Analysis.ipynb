{
 "cells": [
  {
   "cell_type": "code",
   "execution_count": 2,
   "metadata": {},
   "outputs": [],
   "source": [
    "import csv\n",
    "import os\n",
    "import re\n",
    "from glob import glob\n",
    "from itertools import product\n",
    "from math import atan2, degrees, sqrt\n",
    "from pathlib import Path\n",
    "\n",
    "import matplotlib.pyplot as plt\n",
    "import numpy as np\n",
    "import pandas as pd\n",
    "import seaborn as sns\n",
    "from scipy import signal, stats\n",
    "from scipy.fft import fft, ifft\n",
    "from scipy.interpolate import interp1d, make_interp_spline\n",
    "from scipy.spatial.distance import euclidean\n",
    "from sklearn.preprocessing import MinMaxScaler\n",
    "\n",
    "pd.set_option(\"display.max_columns\", 500)\n",
    "sns.set_style(\"darkgrid\", rc={\"xtick.bottom\": True, \"ytick.left\": True})"
   ]
  },
  {
   "cell_type": "markdown",
   "metadata": {},
   "source": [
    "# Data Input and Cleaning Functions"
   ]
  },
  {
   "cell_type": "markdown",
   "metadata": {},
   "source": [
    "## DataFrame Functions"
   ]
  },
  {
   "cell_type": "code",
   "execution_count": 3,
   "metadata": {},
   "outputs": [],
   "source": [
    "def read_raw_data(path: str) -> pd.DataFrame:\n",
    "    return pd.read_csv(\n",
    "        path,\n",
    "        skiprows=[0],\n",
    "        header=[0, 1, 2],\n",
    "        index_col=[0],\n",
    "    )\n",
    "\n",
    "\n",
    "def clean_data(raw_df: pd.DataFrame) -> pd.DataFrame:\n",
    "    def combine_levels(df: pd.DataFrame) -> pd.DataFrame:\n",
    "        df.columns = df.columns.map(\"_\".join)\n",
    "        return df\n",
    "\n",
    "    def drop_likelihood(df: pd.DataFrame) -> pd.DataFrame:\n",
    "        mask = df.columns.str.contains(\"likelihood\")\n",
    "        cols_to_drop = df.columns[mask]\n",
    "        return df.drop(columns=cols_to_drop)\n",
    "\n",
    "    return (\n",
    "        raw_df.rename_axis(index=\"frame\")\n",
    "        .interpolate(method=\"linear\")\n",
    "        .pipe(combine_levels)\n",
    "        .pipe(drop_likelihood)\n",
    "    )"
   ]
  },
  {
   "cell_type": "markdown",
   "metadata": {},
   "source": [
    "## Path Functions"
   ]
  },
  {
   "cell_type": "code",
   "execution_count": 4,
   "metadata": {},
   "outputs": [],
   "source": [
    "def get_mouse_name(path):\n",
    "    \"\"\"Extract mouse name from a given path.\"\"\"\n",
    "\n",
    "    pattern = r\"[\\\\/]?(([^\\\\/]+))DLC\"\n",
    "\n",
    "    if match := re.search(pattern, path):\n",
    "        return match.group(1)\n",
    "    else:\n",
    "        print(\"No match found\")"
   ]
  },
  {
   "cell_type": "code",
   "execution_count": 11,
   "metadata": {},
   "outputs": [],
   "source": [
    "def get_files():\n",
    "    pattern = r\"(\\d+\\w+)_(Sham|Ctl|SCI|CCI|Baseline|EAE|mtPst1)_(-?\\d+)dpi\"\n",
    "    paths = glob(\"*DLC*.csv\")\n",
    "    file_info = []\n",
    "\n",
    "    for path in paths:\n",
    "        if match := re.search(pattern, path):\n",
    "            animal_id, condition, dpi = match.groups()\n",
    "            file_info.append({\"file_name\": path, \"animal_id\": animal_id, \"condition\": condition, \"dpi\": int(dpi)})\n",
    "\n",
    "    sorted_files = sorted(file_info, key=lambda x: (x[\"dpi\"], x[\"condition\"]))\n",
    "\n",
    "    return [info[\"file_name\"] for info in sorted_files]"
   ]
  },
  {
   "cell_type": "markdown",
   "metadata": {},
   "source": [
    "# Metric Functions"
   ]
  },
  {
   "cell_type": "code",
   "execution_count": 5,
   "metadata": {},
   "outputs": [],
   "source": [
    "def euclidian_dist(row: pd.Series, *, col_root_pair: tuple[str]) -> pd.Series:\n",
    "    \"\"\"Calculate the 2d euclidean distance between two body parts, using a DataFrame\n",
    "    containing columns representing individual x and y coordinates.\n",
    "\n",
    "    Parameters\n",
    "    ----------\n",
    "    row : pd.Series\n",
    "        pandas series representing a single observation\n",
    "    col_root_pair : tuple[str]\n",
    "        containing pair of body parts representing the root body part of an x,y pair.\n",
    "        e.g., ('Mouse_Snout', 'Mouse_Tail_2base')\n",
    "\n",
    "    Returns\n",
    "    -------\n",
    "    pd.Series\n",
    "        euclidean distance for the row and body part pair in the DataFrame\n",
    "    \"\"\"\n",
    "\n",
    "    return euclidean(\n",
    "        (row[f\"{col_root_pair[0]}_x\"], row[f\"{col_root_pair[0]}_y\"]),\n",
    "        (row[f\"{col_root_pair[1]}_x\"], row[f\"{col_root_pair[1]}_y\"]),\n",
    "    )"
   ]
  },
  {
   "cell_type": "markdown",
   "metadata": {},
   "source": [
    "# Categorizing Frames into Inner or Outer Box"
   ]
  },
  {
   "cell_type": "code",
   "execution_count": 12,
   "metadata": {},
   "outputs": [],
   "source": [
    "def distance(x1, y1, x2, y2): \n",
    "    result = np.sqrt(\n",
    "        np.square(x2 - x1) + np.square(y2 - y1)\n",
    "    )\n",
    "    \n",
    "    return result\n",
    "\n",
    "paths = get_files()\n",
    "\n",
    "total_distance_results = []\n",
    "Total_Distances = []\n",
    "\n",
    "for path in paths:\n",
    "    mouse_name = get_mouse_name(path)\n",
    "    raw_df = read_raw_data(path)\n",
    "    cleaned_df = clean_data(raw_df)\n",
    "    # Calculate total distance using the TotDist function\n",
    "    relevant_data = cleaned_df[[\"Mouse_Tail_2base_x\", \"Mouse_Tail_2base_y\"]]\n",
    "    newrows = (\n",
    "        relevant_data.assign(\n",
    "            new_frame_x=lambda df: df[\"Mouse_Tail_2base_x\"].shift(-1),\n",
    "            new_frame_y=lambda df: df[\"Mouse_Tail_2base_y\"].shift(-1),\n",
    "            Distance=lambda df: distance(\n",
    "                df[\"Mouse_Tail_2base_x\"],\n",
    "                df[\"Mouse_Tail_2base_y\"],\n",
    "                df[\"new_frame_x\"],\n",
    "                df[\"new_frame_y\"],\n",
    "            ) / 35,\n",
    "    ))\n",
    "    total_distance_results.append(newrows)   \n",
    "    Travel = newrows.iloc[:7200, -1:] \n",
    "    # Rename the 'Distance' column with the mouse name\n",
    "    Travel.rename(columns={'Distance': f'{mouse_name}'}, inplace=True) \n",
    "    Total_Distances.append(Travel.sum(axis=0)) \n",
    "\n",
    "#  Concatenate the total distance results into a single DataFrame\n",
    "total_distance_series = pd.concat(Total_Distances, axis=0)\n",
    "total_distance_df = total_distance_series.to_frame()\n",
    "total_distance_df.columns = ['Total Distance (cm)']\n",
    "########################################################################################\n",
    "total_distance_df.to_excel('Total Distance Traveled EAE All.xlsx')"
   ]
  },
  {
   "cell_type": "code",
   "execution_count": 8,
   "metadata": {},
   "outputs": [],
   "source": [
    "XMIN = 357\n",
    "XMAX = 1428\n",
    "YMIN = 357\n",
    "YMAX = 1428\n",
    "YDIV = 892.5\n",
    "XDIV = 892.5\n",
    "\n",
    "paths = get_files()\n",
    "\n",
    "box_count_dfs = []\n",
    "total_distance_results = []\n",
    "for path in paths:\n",
    "    mouse_name = get_mouse_name(path)\n",
    "    raw_df = read_raw_data(path)\n",
    "    cleaned_df = clean_data(raw_df)\n",
    "    box_count = (\n",
    "        cleaned_df.assign(\n",
    "            box=lambda df: np.select(\n",
    "                [\n",
    "                    (df[\"Mouse_Tail_2base_x\"] > XMIN)\n",
    "                    & (df[\"Mouse_Tail_2base_x\"] < XMAX)\n",
    "                    & (df[\"Mouse_Tail_2base_y\"] > YMIN)\n",
    "                    & (df[\"Mouse_Tail_2base_y\"] < YMAX),\n",
    "                    (df[\"Mouse_Tail_2base_x\"] <= XDIV)\n",
    "                    & (df[\"Mouse_Tail_2base_y\"] <= YDIV),\n",
    "                    (df[\"Mouse_Tail_2base_x\"] > XDIV)\n",
    "                    & (df[\"Mouse_Tail_2base_y\"] <= YDIV),\n",
    "                    (df[\"Mouse_Tail_2base_x\"] <= XDIV)\n",
    "                    & (df[\"Mouse_Tail_2base_y\"] > YDIV),\n",
    "                    (df[\"Mouse_Tail_2base_x\"] > XDIV)\n",
    "                    & (df[\"Mouse_Tail_2base_y\"] > YDIV),\n",
    "                ],\n",
    "                [\"inner\", \"OuterBox_TL\", \"OuterBox_TR\", \"OuterBox_BL\", \"OuterBox_BR\"],\n",
    "                default=\"outer\",\n",
    "            )\n",
    "        )[\"box\"]\n",
    "        .value_counts()\n",
    "        .div(60)\n",
    "        .to_frame(name=mouse_name)\n",
    "        .transpose()\n",
    "        .rename_axis(columns=None)\n",
    "    )\n",
    "    box_count_dfs.append(box_count)\n",
    "\n",
    "grouped_box_counts = pd.concat(box_count_dfs).T\n",
    "########################################################################################\n",
    "grouped_box_counts.to_excel('Open Field Analysis EAE All.xlsx')"
   ]
  }
 ],
 "metadata": {
  "kernelspec": {
   "display_name": "py311",
   "language": "python",
   "name": "python3"
  },
  "language_info": {
   "codemirror_mode": {
    "name": "ipython",
    "version": 3
   },
   "file_extension": ".py",
   "mimetype": "text/x-python",
   "name": "python",
   "nbconvert_exporter": "python",
   "pygments_lexer": "ipython3",
   "version": "3.10.13"
  },
  "orig_nbformat": 4
 },
 "nbformat": 4,
 "nbformat_minor": 2
}
