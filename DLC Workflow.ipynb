{
 "cells": [
  {
   "attachments": {},
   "cell_type": "markdown",
   "metadata": {},
   "source": [
    "# DeepLabCut Workflow"
   ]
  },
  {
   "cell_type": "code",
   "execution_count": 1,
   "metadata": {},
   "outputs": [
    {
     "name": "stdout",
     "output_type": "stream",
     "text": [
      "Loading DLC 2.3.0...\n"
     ]
    }
   ],
   "source": [
    "import deeplabcut"
   ]
  },
  {
   "attachments": {},
   "cell_type": "markdown",
   "metadata": {},
   "source": [
    "# Create Project in DLC and Edit Config if you want to use your own iteration with our labels"
   ]
  },
  {
   "cell_type": "code",
   "execution_count": null,
   "metadata": {},
   "outputs": [],
   "source": [
    "deeplabcut.create_new_project(\n",
    "    \"Name_of_Project\",\n",
    "    \"Experimenter_Name\",\n",
    "    [\n",
    "        r\"Video_Path\",\n",
    "        r\"Video_Path\",\n",
    "    ],\n",
    "    working_directory=r\"Directory_Path\",\n",
    "    copy_videos=True,\n",
    "    multianimal=False,\n",
    ")"
   ]
  },
  {
   "cell_type": "code",
   "execution_count": null,
   "metadata": {},
   "outputs": [],
   "source": [
    "config_path = r\"Path_of_Config\\config.yaml\"\n",
    "\n",
    "# Bodyparts were configured through the .yaml file,\n",
    "edits = {'individuals': ['mouse'],\n",
    "         'uniquebodyparts': ['Snout'], ['Left_forelimb'], ['Right_forelimb'], ['Top_body'], ['Left_hindlimb'], ['Right_hindlimb'], ['Bottom_body'], ['Tail_2base'], ['Tail_15'], ['Tail_1'], ['Tail_05'], [' Tail_0'],\n",
    "         'skeleton': [['snout', 'Right_hindlimb'], ['Left_forelimb', 'Left_hindlimb'], ['snout', 'Left_ forelimb'], ['Right_forelimb', 'Right_hindlimb'], ['Left_forelimb', 'Right_forelimb'], ['Top_body', 'Bottom_body'], ['Bottom_body', 'Left_hindlimb'], ['Bottom_body', 'Right_hindlimb'], ['Top_body', 'Left_hindlimb'], ['Top_body', 'Right_hindlimb'], ['Right_hindlimb', ' Left_hindlimb '], ['Tail_2base', 'Right_hindlimb'], ['Tail_2base', 'Left_hindlimb'], ['Tail_2base', 'Bottom_body'], ['Tail_2base', 'Tail_15'], ['Tail_15', 'Tail_1'], ['Tail_1', 'Tail_05'], ['Tail_05', 'Tail_0'] , ['Tail_2base', 'Tail_0']]}\n",
    "deeplabcut.auxiliaryfunctions.edit_config(config_path, edits)"
   ]
  },
  {
   "attachments": {},
   "cell_type": "markdown",
   "metadata": {},
   "source": [
    "# Frames: Import path, extract frames, label frames"
   ]
  },
  {
   "cell_type": "code",
   "execution_count": 2,
   "metadata": {},
   "outputs": [],
   "source": [
    "deeplabcut.extract_frames(\n",
    "    config_path, mode=\"automatic\", algo=\"kmeans\", userfeedback=True, crop=False\n",
    ")\n",
    "\n",
    "deeplabcut.label_frames(config_path)\n",
    "\n",
    "deeplabcut.merge_datasets(config_path)"
   ]
  },
  {
   "attachments": {},
   "cell_type": "markdown",
   "metadata": {},
   "source": [
    "# Train: Create training dataset, Train network, Evalutate network"
   ]
  },
  {
   "cell_type": "code",
   "execution_count": null,
   "metadata": {},
   "outputs": [],
   "source": [
    "# Create training dataset\n",
    "deeplabcut.create_training_dataset(config_path, augmenter_type=\"imgaug\", net_type=\"resnet_152\")\n",
    "\n",
    "# Train network\n",
    "deeplabcut.train_network(config_path, shuffle=1,max_snapshots_to_keep=5, maxiters=30000, gputouse=0)\n",
    "\n",
    "#Evaluate Network\n",
    "deeplabcut.evaluate_network(config_path)"
   ]
  },
  {
   "attachments": {},
   "cell_type": "markdown",
   "metadata": {},
   "source": [
    "# Refine Network: Extract outliers, label frames, merge dataset"
   ]
  },
  {
   "cell_type": "code",
   "execution_count": null,
   "metadata": {},
   "outputs": [],
   "source": [
    "# Extract Outliers\n",
    "deeplabcut.find_outliers_in_raw_data(config_path, \"Pickle_Path\", \"Video_Path\")\n",
    "deeplabcut.convert_detections2tracklets(..., identity_only=True)\n",
    "deeplabcut.extract_outlier_frames(\n",
    "    config_path, \n",
    "    [\"Outilier_Video_Path\"],\n",
    "    epsilon=400\n",
    "    )\n",
    "\n",
    "# Interpolate and filter predictions to refine labels\n",
    "deeplabcut.plot_trajectories(config_path,['videofile_path'],filtered = True)\n",
    "deeplabcut.refine_tracklets(config_path, \"pickle_or_h5_file\", \"videofile_path\", max_gap=0, min_swap_len=2, trail_len=50)\n",
    "\n",
    "# Relabel \n",
    "deeplabcut.refine_labels(config_path)\n",
    "\n",
    "# Merge data sets \n",
    "deeplabcut.merge_datasets(config_path)\n",
    "\n",
    "#retrain network after you are done \n",
    "#remember to change the weights on the correct train pose_cfg.yaml"
   ]
  },
  {
   "attachments": {},
   "cell_type": "markdown",
   "metadata": {},
   "source": [
    "# Analyse Videos, create .csv, create skeleton. Start from here if adapting our .yaml file"
   ]
  },
  {
   "cell_type": "code",
   "execution_count": null,
   "metadata": {},
   "outputs": [],
   "source": [
    "# Analyze videos\n",
    "deeplabcut.analyze_videos(\n",
    "    config_path,\n",
    "    \"Video_Path\",\n",
    "    gputouse=0,\n",
    "    save_as_csv=True,\n",
    "    videotype='avi',\n",
    "    dynamic=(True, 0.5, 10),\n",
    ")\n",
    "\n",
    "# Filter predictions\n",
    "deeplabcut.filterpredictions(\n",
    "    config_path,\n",
    "    [\"Video_Path\"],\n",
    "    videotype='avi',\n",
    "    )\n",
    "\n",
    "# Graph trajectories\n",
    "deeplabcut.plot_trajectories(\n",
    "    config_path, [\"Video_Path\"], filtered=True\n",
    ")\n",
    "\n",
    "# Create labeled video\n",
    "deeplabcut.create_labeled_video(\n",
    "    config_path, \n",
    "    [\"Video_Path\"],\n",
    "    videotype='avi',\n",
    "    draw_skeleton = True)\n",
    "\n",
    "# Create Skeleton Analysis\n",
    "deeplabcut.analyzeskeleton(\n",
    "    config_path, \n",
    "    [\"Video_Path\"], \n",
    "    filtered=True, \n",
    "    save_as_csv=True)"
   ]
  }
 ],
 "metadata": {
  "kernelspec": {
   "display_name": "DEEPLABCUT",
   "language": "python",
   "name": "python3"
  },
  "language_info": {
   "codemirror_mode": {
    "name": "ipython",
    "version": 3
   },
   "file_extension": ".py",
   "mimetype": "text/x-python",
   "name": "python",
   "nbconvert_exporter": "python",
   "pygments_lexer": "ipython3",
   "version": "3.8.15"
  },
  "orig_nbformat": 4,
  "vscode": {
   "interpreter": {
    "hash": "f23784e33363ec917abf8bde28c861305a2380f3d9bf405543b9d8d3c0fed08d"
   }
  }
 },
 "nbformat": 4,
 "nbformat_minor": 2
}
